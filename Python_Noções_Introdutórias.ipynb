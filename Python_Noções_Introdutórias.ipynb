{
  "nbformat": 4,
  "nbformat_minor": 0,
  "metadata": {
    "colab": {
      "provenance": [],
      "authorship_tag": "ABX9TyMh/NonW3WwtHMG9tYPBkOG",
      "include_colab_link": true
    },
    "kernelspec": {
      "name": "python3",
      "display_name": "Python 3"
    },
    "language_info": {
      "name": "python"
    }
  },
  "cells": [
    {
      "cell_type": "markdown",
      "metadata": {
        "id": "view-in-github",
        "colab_type": "text"
      },
      "source": [
        "<a href=\"https://colab.research.google.com/github/joaoramos23/Python-Nocoes-Introdutorias/blob/main/Python_No%C3%A7%C3%B5es_Introdut%C3%B3rias.ipynb\" target=\"_parent\"><img src=\"https://colab.research.google.com/assets/colab-badge.svg\" alt=\"Open In Colab\"/></a>"
      ]
    },
    {
      "cell_type": "markdown",
      "source": [
        "# Revisão de Python e Noções Basicas\n",
        "Algoritmos são constituidos:\n",
        "1.   Entrada de dados.\n",
        "2.   Processamento dos dados.\n",
        "3.   Saída dos dados.\n",
        "\n"
      ],
      "metadata": {
        "id": "pPEbZo-0VHws"
      }
    },
    {
      "cell_type": "code",
      "source": [
        "# Exemplo Entrada de dados:\n",
        "nome_entrada = str(input(\"Digite seu nome:\"))"
      ],
      "metadata": {
        "colab": {
          "base_uri": "https://localhost:8080/"
        },
        "id": "GDGp7CgyVQbq",
        "outputId": "1225db4c-9d6f-48c6-e075-d65177a5cfe3"
      },
      "execution_count": null,
      "outputs": [
        {
          "name": "stdout",
          "output_type": "stream",
          "text": [
            "Digite seu nome:joao\n"
          ]
        }
      ]
    },
    {
      "cell_type": "code",
      "source": [
        "# Exemplo Saída de dados:\n",
        "print(nome_entrada)"
      ],
      "metadata": {
        "colab": {
          "base_uri": "https://localhost:8080/"
        },
        "id": "ozYXslf3Whp2",
        "outputId": "5ffbe48b-ae4a-4998-ef9d-c2b589262df4"
      },
      "execution_count": null,
      "outputs": [
        {
          "output_type": "stream",
          "name": "stdout",
          "text": [
            "joao\n"
          ]
        }
      ]
    },
    {
      "cell_type": "markdown",
      "source": [
        "### Operações Matemáticas:\n",
        "```\n",
        "*   Soma: +\n",
        "*   Subtração: -\n",
        "*   Multiplicação: *\n",
        "*   Divisão: /\n",
        "*   Divisão inteira: //\n",
        "*   Resto da divisão: %\n",
        "*   Potência: **   \n",
        "```\n"
      ],
      "metadata": {
        "id": "yepdAw7FHO6A"
      }
    },
    {
      "cell_type": "code",
      "source": [
        "numero_1 = 10\n",
        "numero_2 = 3\n",
        "\n",
        "print(numero_1 + numero_2)\n",
        "print(numero_1 - numero_2)\n",
        "print(numero_1 * numero_2)\n",
        "print(numero_1 / numero_2)\n",
        "print(numero_1 // numero_2)\n",
        "print(numero_1 % numero_2)\n",
        "print(numero_1 ** numero_2)"
      ],
      "metadata": {
        "colab": {
          "base_uri": "https://localhost:8080/"
        },
        "id": "E3FJDLO6IWza",
        "outputId": "568caa15-80a5-4e68-a78f-175efd07f458"
      },
      "execution_count": null,
      "outputs": [
        {
          "output_type": "stream",
          "name": "stdout",
          "text": [
            "13\n",
            "7\n",
            "30\n",
            "3.3333333333333335\n",
            "3\n",
            "1\n",
            "1000\n"
          ]
        }
      ]
    },
    {
      "cell_type": "markdown",
      "source": [
        "### Operações Booleanos:\n",
        "```\n",
        "*   >: Maior que\n",
        "*   <: Menor que\n",
        "*   >=: Maior que ou igual\n",
        "*   <=: Menor que ou igual\n",
        "*   ==: Igual\n",
        "*   !=: Diferente\n",
        "```"
      ],
      "metadata": {
        "id": "Np3weKnrJ1os"
      }
    },
    {
      "cell_type": "code",
      "source": [
        "altura_1 = 3.10\n",
        "altura_2 = 1\n",
        "\n",
        "print(altura_1 > altura_2)\n",
        "print(altura_1 < altura_2)\n",
        "print(altura_1 >= altura_2)\n",
        "print(altura_1 <= altura_2)\n",
        "print(altura_1 == altura_2)\n",
        "print(altura_1 != altura_2)\n",
        "print(\"Python\" == \"python\")\n",
        "print(\"Pythonn\" > \"PYTHON\")\n",
        "print(\"Pythonn\" < \"PYTHON\")"
      ],
      "metadata": {
        "colab": {
          "base_uri": "https://localhost:8080/"
        },
        "id": "-nZ6yK6VKmYi",
        "outputId": "7ab83033-128a-465b-8647-dd44d20b0df4"
      },
      "execution_count": null,
      "outputs": [
        {
          "output_type": "stream",
          "name": "stdout",
          "text": [
            "True\n",
            "False\n",
            "True\n",
            "False\n",
            "False\n",
            "True\n",
            "False\n",
            "True\n",
            "False\n"
          ]
        }
      ]
    },
    {
      "cell_type": "markdown",
      "source": [
        "### Conversões de Tipo:\n",
        "\n",
        "```\n",
        "*   int() -> Inteiro\n",
        "*   str() -> String\n",
        "*   float() -> Decimal\n",
        "*   bool() -> Booleano\n",
        "```"
      ],
      "metadata": {
        "id": "gxIR1sXaVME1"
      }
    },
    {
      "cell_type": "code",
      "source": [
        "numero = '1'\n",
        "boolean = 'True'\n",
        "\n",
        "print(numero, type(numero))\n",
        "print(boolean, type(boolean))\n",
        "\n",
        "# Testando Conversões de Tipo:\n",
        "print(\"Testando Conversões de Tipo:\")\n",
        "print(str(numero), type(str(numero)))\n",
        "print(int(numero), type(int(numero)))\n",
        "print(float(numero), type(float(numero)))\n",
        "print(bool(boolean), type(bool(boolean)))"
      ],
      "metadata": {
        "id": "bgFvsTbBWTHu",
        "outputId": "5adc0daa-c19d-4d91-ce31-c74e43a09361",
        "colab": {
          "base_uri": "https://localhost:8080/"
        }
      },
      "execution_count": null,
      "outputs": [
        {
          "output_type": "stream",
          "name": "stdout",
          "text": [
            "1 <class 'str'>\n",
            "True <class 'str'>\n",
            "Testando Conversões de Tipo:\n",
            "1 <class 'str'>\n",
            "1 <class 'int'>\n",
            "1.0 <class 'float'>\n",
            "True <class 'bool'>\n"
          ]
        }
      ]
    },
    {
      "cell_type": "markdown",
      "source": [
        "# Estruturas Condicionais:\n",
        "\n",
        "*   if - elif - else\n",
        "*   while\n",
        "*   for\n",
        "\n"
      ],
      "metadata": {
        "id": "iS9jmiNwXFmF"
      }
    },
    {
      "cell_type": "code",
      "source": [
        "idade = 13\n",
        "\n",
        "if idade < 13:\n",
        "  print(\"Criança\")\n",
        "elif idade >= 13 and idade < 18:\n",
        "  print(\"Adolescente\")\n",
        "else:\n",
        "  print(\"Adulto\")"
      ],
      "metadata": {
        "id": "UaLnC3rIXzf1",
        "outputId": "a7a87491-658d-4bab-a0e8-012d59003894",
        "colab": {
          "base_uri": "https://localhost:8080/"
        }
      },
      "execution_count": null,
      "outputs": [
        {
          "output_type": "stream",
          "name": "stdout",
          "text": [
            "Adolescente\n"
          ]
        }
      ]
    },
    {
      "cell_type": "code",
      "source": [
        "numero_sorteado = 8\n",
        "\n",
        "verificador = True\n",
        "\n",
        "while verificador:\n",
        "\n",
        "  numero_escolhido = int(input(\"Digite um numero de 1 - 10:\"))\n",
        "  if numero_sorteado == numero_escolhido:\n",
        "    verificador = False\n",
        "    print(\"Você acertou!\")\n",
        "  else:\n",
        "    print(\"Você errou, tente novamente.\")"
      ],
      "metadata": {
        "id": "zDrYKoKHYSD0",
        "outputId": "4ac3da01-70ed-481b-fbfb-e29ffc2eb795",
        "colab": {
          "base_uri": "https://localhost:8080/"
        }
      },
      "execution_count": null,
      "outputs": [
        {
          "output_type": "stream",
          "name": "stdout",
          "text": [
            "Digite um numero de 1 - 10:5\n",
            "Você errou, tente novamente.\n",
            "Digite um numero de 1 - 10:6\n",
            "Você errou, tente novamente.\n",
            "Digite um numero de 1 - 10:8\n",
            "Você acertou!\n"
          ]
        }
      ]
    },
    {
      "cell_type": "code",
      "source": [
        "numeros = [1,4,5,6,9]\n",
        "soma = 0\n",
        "for i in numeros:\n",
        "  soma += i\n",
        "\n",
        "print(soma)\n",
        "print(sum(numeros))"
      ],
      "metadata": {
        "id": "bPlGNiNiaWB5",
        "outputId": "43bd7a9b-c685-4ebe-f641-6f0d476826c9",
        "colab": {
          "base_uri": "https://localhost:8080/"
        }
      },
      "execution_count": null,
      "outputs": [
        {
          "output_type": "stream",
          "name": "stdout",
          "text": [
            "25\n",
            "25\n"
          ]
        }
      ]
    },
    {
      "cell_type": "markdown",
      "source": [
        "### Estrutura de Dados:\n",
        "\n",
        "*  Lista = []\n",
        "*  Tupla = ()\n",
        "*  Dicionario = {}"
      ],
      "metadata": {
        "id": "N5mkQPJQ-1eR"
      }
    },
    {
      "cell_type": "code",
      "source": [
        "lista = [1,5,9.6]\n",
        "\n",
        "# Lista -> Slices:\n",
        "\n",
        "lista[::-1]"
      ],
      "metadata": {
        "id": "JQXBDO17ARai",
        "outputId": "c16866a4-1904-4492-afe9-59e5830ca7b2",
        "colab": {
          "base_uri": "https://localhost:8080/"
        }
      },
      "execution_count": 65,
      "outputs": [
        {
          "output_type": "execute_result",
          "data": {
            "text/plain": [
              "[9.6, 5, 1]"
            ]
          },
          "metadata": {},
          "execution_count": 65
        }
      ]
    },
    {
      "cell_type": "code",
      "source": [
        "lista.append(3)\n",
        "lista"
      ],
      "metadata": {
        "id": "Et2IJIapGnKx",
        "outputId": "a0f60c04-5118-4c73-863e-fc3954223bdc",
        "colab": {
          "base_uri": "https://localhost:8080/"
        }
      },
      "execution_count": 66,
      "outputs": [
        {
          "output_type": "execute_result",
          "data": {
            "text/plain": [
              "[1, 5, 9.6, 3]"
            ]
          },
          "metadata": {},
          "execution_count": 66
        }
      ]
    },
    {
      "cell_type": "code",
      "source": [
        "lista.insert(3,10)\n",
        "lista"
      ],
      "metadata": {
        "id": "SYeQGJWjHXbC",
        "outputId": "a6352f70-0827-48a7-dcc0-72dcaacaafc0",
        "colab": {
          "base_uri": "https://localhost:8080/"
        }
      },
      "execution_count": 67,
      "outputs": [
        {
          "output_type": "execute_result",
          "data": {
            "text/plain": [
              "[1, 5, 9.6, 10, 3]"
            ]
          },
          "metadata": {},
          "execution_count": 67
        }
      ]
    },
    {
      "cell_type": "code",
      "source": [
        "lista.index(max(lista))"
      ],
      "metadata": {
        "id": "2S60vOGWJtuR",
        "outputId": "30a80f29-14ef-4a9a-ae72-cea54d03eba4",
        "colab": {
          "base_uri": "https://localhost:8080/"
        }
      },
      "execution_count": 68,
      "outputs": [
        {
          "output_type": "execute_result",
          "data": {
            "text/plain": [
              "3"
            ]
          },
          "metadata": {},
          "execution_count": 68
        }
      ]
    },
    {
      "cell_type": "code",
      "source": [
        "lista"
      ],
      "metadata": {
        "id": "KnIBReTYKXx0",
        "outputId": "693756cd-1543-4906-f607-66feea5fc78d",
        "colab": {
          "base_uri": "https://localhost:8080/"
        }
      },
      "execution_count": 69,
      "outputs": [
        {
          "output_type": "execute_result",
          "data": {
            "text/plain": [
              "[1, 5, 9.6, 10, 3]"
            ]
          },
          "metadata": {},
          "execution_count": 69
        }
      ]
    },
    {
      "cell_type": "code",
      "source": [
        "item_removido = lista.remove(1)\n",
        "lista"
      ],
      "metadata": {
        "id": "bDKf7lOTKZVM",
        "outputId": "629b75d8-c167-4b4b-b4b4-07a6566746c6",
        "colab": {
          "base_uri": "https://localhost:8080/"
        }
      },
      "execution_count": 70,
      "outputs": [
        {
          "output_type": "execute_result",
          "data": {
            "text/plain": [
              "[5, 9.6, 10, 3]"
            ]
          },
          "metadata": {},
          "execution_count": 70
        }
      ]
    },
    {
      "cell_type": "code",
      "source": [
        "import time\n",
        "\n",
        "# Desafio ordernar lista sem utilizar sort():\n",
        "\n",
        "lista_desordenada = [4,3,1,8,2,3,11,9]\n",
        "\n",
        "verificar = True\n",
        "\n",
        "while verificar:\n",
        "  verificar_2 = True\n",
        "  for i in range(len(lista_desordenada) - 1):\n",
        "    if (lista_desordenada[i] > lista_desordenada[i + 1]):\n",
        "        lista_desordenada[i], lista_desordenada[i + 1] = lista_desordenada[i + 1], lista_desordenada[i]\n",
        "        verificar_2 = False\n",
        "  if (verificar_2 == True):\n",
        "    verificar = False\n",
        "\n",
        "lista_desordenada"
      ],
      "metadata": {
        "id": "5T3zWXPOLKL8",
        "outputId": "79021848-683d-4eea-e55c-60d1e859bf6a",
        "colab": {
          "base_uri": "https://localhost:8080/"
        }
      },
      "execution_count": 82,
      "outputs": [
        {
          "output_type": "stream",
          "name": "stdout",
          "text": [
            "0\n",
            "1\n",
            "2\n",
            "3\n",
            "4\n",
            "5\n",
            "6\n",
            "0\n",
            "1\n",
            "2\n",
            "3\n",
            "4\n",
            "5\n",
            "6\n",
            "0\n",
            "1\n",
            "2\n",
            "3\n",
            "4\n",
            "5\n",
            "6\n",
            "0\n",
            "1\n",
            "2\n",
            "3\n",
            "4\n",
            "5\n",
            "6\n"
          ]
        },
        {
          "output_type": "execute_result",
          "data": {
            "text/plain": [
              "[1, 2, 3, 3, 4, 8, 9, 11]"
            ]
          },
          "metadata": {},
          "execution_count": 82
        }
      ]
    },
    {
      "cell_type": "markdown",
      "source": [
        "### Funções:"
      ],
      "metadata": {
        "id": "BAQlxJphQaLJ"
      }
    },
    {
      "cell_type": "code",
      "source": [
        "def contar_lista(lista = []):\n",
        "  contador = 0\n",
        "  for i in lista:\n",
        "    contador += 1\n",
        "\n",
        "  return contador"
      ],
      "metadata": {
        "id": "Wq4CRdzmQc0B"
      },
      "execution_count": 85,
      "outputs": []
    },
    {
      "cell_type": "code",
      "source": [
        "lista_contar = [1,2,3,23,1,213,123,12]\n",
        "contagem = contar_lista(lista_contar)\n",
        "contagem"
      ],
      "metadata": {
        "id": "cgq666nfQprU",
        "outputId": "b3d59e43-8cbb-4912-f30f-c086c47f613d",
        "colab": {
          "base_uri": "https://localhost:8080/"
        }
      },
      "execution_count": 87,
      "outputs": [
        {
          "output_type": "execute_result",
          "data": {
            "text/plain": [
              "8"
            ]
          },
          "metadata": {},
          "execution_count": 87
        }
      ]
    },
    {
      "cell_type": "markdown",
      "source": [
        "### Dicionários:"
      ],
      "metadata": {
        "id": "mnhMXB1gVFok"
      }
    },
    {
      "cell_type": "code",
      "source": [
        "dicionario = {'nome':'joao','idade':25,'altura':1.75}\n",
        "dicionario"
      ],
      "metadata": {
        "id": "lFVwpm4sVKHr",
        "outputId": "0d006482-b36c-4297-b090-c80082e03c0d",
        "colab": {
          "base_uri": "https://localhost:8080/"
        }
      },
      "execution_count": 90,
      "outputs": [
        {
          "output_type": "execute_result",
          "data": {
            "text/plain": [
              "{'nome': 'joao', 'idade': 25, 'altura': 1.75}"
            ]
          },
          "metadata": {},
          "execution_count": 90
        }
      ]
    },
    {
      "cell_type": "code",
      "source": [
        "dicionario['analista de dados'] = True\n",
        "dicionario"
      ],
      "metadata": {
        "id": "CDyRMPARWGgX",
        "outputId": "9d3abffd-752c-4a65-ea8f-c392ea022cf0",
        "colab": {
          "base_uri": "https://localhost:8080/"
        }
      },
      "execution_count": 91,
      "outputs": [
        {
          "output_type": "execute_result",
          "data": {
            "text/plain": [
              "{'nome': 'joao', 'idade': 25, 'altura': 1.75, 'analista de dados': True}"
            ]
          },
          "metadata": {},
          "execution_count": 91
        }
      ]
    },
    {
      "cell_type": "code",
      "source": [
        "for i,j in dicionario.items():\n",
        "  print(i,j)"
      ],
      "metadata": {
        "id": "lyLsWBisWXVI",
        "outputId": "7250769a-41f7-4b46-eed0-f575dafb1b7c",
        "colab": {
          "base_uri": "https://localhost:8080/"
        }
      },
      "execution_count": 101,
      "outputs": [
        {
          "output_type": "stream",
          "name": "stdout",
          "text": [
            "nome joao\n",
            "idade 25\n",
            "altura 1.75\n",
            "analista de dados True\n"
          ]
        }
      ]
    },
    {
      "cell_type": "code",
      "source": [
        "'joao' in dicionario.values()"
      ],
      "metadata": {
        "id": "JM6IdwPHW5rE",
        "outputId": "4280040b-d37a-4b08-9761-91823af3283b",
        "colab": {
          "base_uri": "https://localhost:8080/"
        }
      },
      "execution_count": 98,
      "outputs": [
        {
          "output_type": "execute_result",
          "data": {
            "text/plain": [
              "True"
            ]
          },
          "metadata": {},
          "execution_count": 98
        }
      ]
    }
  ]
}