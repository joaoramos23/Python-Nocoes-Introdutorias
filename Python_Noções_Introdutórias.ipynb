{
  "nbformat": 4,
  "nbformat_minor": 0,
  "metadata": {
    "colab": {
      "provenance": [],
      "authorship_tag": "ABX9TyNZa7zR4mfJq3FF37RMA0Ni",
      "include_colab_link": true
    },
    "kernelspec": {
      "name": "python3",
      "display_name": "Python 3"
    },
    "language_info": {
      "name": "python"
    }
  },
  "cells": [
    {
      "cell_type": "markdown",
      "metadata": {
        "id": "view-in-github",
        "colab_type": "text"
      },
      "source": [
        "<a href=\"https://colab.research.google.com/github/joaoramos23/Python-Nocoes-Introdutorias/blob/main/Python_No%C3%A7%C3%B5es_Introdut%C3%B3rias.ipynb\" target=\"_parent\"><img src=\"https://colab.research.google.com/assets/colab-badge.svg\" alt=\"Open In Colab\"/></a>"
      ]
    },
    {
      "cell_type": "markdown",
      "source": [
        "# Revisão de Python e Noções Basicas\n",
        "Algoritmos são constituidos:\n",
        "1.   Entrada de dados.\n",
        "2.   Processamento dos dados.\n",
        "3.   Saída dos dados.\n",
        "\n"
      ],
      "metadata": {
        "id": "pPEbZo-0VHws"
      }
    },
    {
      "cell_type": "code",
      "source": [
        "# Exemplo Entrada de dados:\n",
        "nome_entrada = str(input(\"Digite seu nome:\"))"
      ],
      "metadata": {
        "colab": {
          "base_uri": "https://localhost:8080/"
        },
        "id": "GDGp7CgyVQbq",
        "outputId": "1225db4c-9d6f-48c6-e075-d65177a5cfe3"
      },
      "execution_count": 5,
      "outputs": [
        {
          "name": "stdout",
          "output_type": "stream",
          "text": [
            "Digite seu nome:joao\n"
          ]
        }
      ]
    },
    {
      "cell_type": "code",
      "source": [
        "# Exemplo Saída de dados:\n",
        "print(nome_entrada)"
      ],
      "metadata": {
        "colab": {
          "base_uri": "https://localhost:8080/"
        },
        "id": "ozYXslf3Whp2",
        "outputId": "5ffbe48b-ae4a-4998-ef9d-c2b589262df4"
      },
      "execution_count": 6,
      "outputs": [
        {
          "output_type": "stream",
          "name": "stdout",
          "text": [
            "joao\n"
          ]
        }
      ]
    },
    {
      "cell_type": "markdown",
      "source": [
        "### Operações Matemáticas:\n",
        "```\n",
        "*   Soma: +\n",
        "*   Subtração: -\n",
        "*   Multiplicação: *\n",
        "*   Divisão: /\n",
        "*   Divisão inteira: //\n",
        "*   Resto da divisão: %\n",
        "*   Potência: **   \n",
        "```\n"
      ],
      "metadata": {
        "id": "yepdAw7FHO6A"
      }
    },
    {
      "cell_type": "code",
      "source": [
        "numero_1 = 10\n",
        "numero_2 = 3\n",
        "\n",
        "print(numero_1 + numero_2)\n",
        "print(numero_1 - numero_2)\n",
        "print(numero_1 * numero_2)\n",
        "print(numero_1 / numero_2)\n",
        "print(numero_1 // numero_2)\n",
        "print(numero_1 % numero_2)\n",
        "print(numero_1 ** numero_2)"
      ],
      "metadata": {
        "colab": {
          "base_uri": "https://localhost:8080/"
        },
        "id": "E3FJDLO6IWza",
        "outputId": "568caa15-80a5-4e68-a78f-175efd07f458"
      },
      "execution_count": 11,
      "outputs": [
        {
          "output_type": "stream",
          "name": "stdout",
          "text": [
            "13\n",
            "7\n",
            "30\n",
            "3.3333333333333335\n",
            "3\n",
            "1\n",
            "1000\n"
          ]
        }
      ]
    },
    {
      "cell_type": "markdown",
      "source": [
        "### Operações Booleanos:\n",
        "```\n",
        "*   >: Maior que\n",
        "*   <: Menor que\n",
        "*   >=: Maior que ou igual\n",
        "*   <=: Menor que ou igual\n",
        "*   ==: Igual\n",
        "*   !=: Diferente\n",
        "```"
      ],
      "metadata": {
        "id": "Np3weKnrJ1os"
      }
    },
    {
      "cell_type": "code",
      "source": [
        "altura_1 = 3.10\n",
        "altura_2 = 1\n",
        "\n",
        "print(altura_1 > altura_2)\n",
        "print(altura_1 < altura_2)\n",
        "print(altura_1 >= altura_2)\n",
        "print(altura_1 <= altura_2)\n",
        "print(altura_1 == altura_2)\n",
        "print(altura_1 != altura_2)\n",
        "print(\"Python\" == \"python\")\n",
        "print(\"Pythonn\" > \"PYTHON\")\n",
        "print(\"Pythonn\" < \"PYTHON\")"
      ],
      "metadata": {
        "colab": {
          "base_uri": "https://localhost:8080/"
        },
        "id": "-nZ6yK6VKmYi",
        "outputId": "7ab83033-128a-465b-8647-dd44d20b0df4"
      },
      "execution_count": 12,
      "outputs": [
        {
          "output_type": "stream",
          "name": "stdout",
          "text": [
            "True\n",
            "False\n",
            "True\n",
            "False\n",
            "False\n",
            "True\n",
            "False\n",
            "True\n",
            "False\n"
          ]
        }
      ]
    },
    {
      "cell_type": "markdown",
      "source": [
        "### Conversões de Tipo:\n",
        "\n",
        "```\n",
        "*   int() -> Inteiro\n",
        "*   str() -> String\n",
        "*   float() -> Decimal\n",
        "*   bool() -> Booleano\n",
        "```"
      ],
      "metadata": {
        "id": "gxIR1sXaVME1"
      }
    },
    {
      "cell_type": "code",
      "source": [
        "numero = '1'\n",
        "boolean = 'True'\n",
        "\n",
        "print(numero, type(numero))\n",
        "print(boolean, type(boolean))\n",
        "\n",
        "# Testando Conversões de Tipo:\n",
        "print(\"Testando Conversões de Tipo:\")\n",
        "print(str(numero), type(str(numero)))\n",
        "print(int(numero), type(int(numero)))\n",
        "print(float(numero), type(float(numero)))\n",
        "print(bool(boolean), type(bool(boolean)))"
      ],
      "metadata": {
        "id": "bgFvsTbBWTHu",
        "outputId": "5adc0daa-c19d-4d91-ce31-c74e43a09361",
        "colab": {
          "base_uri": "https://localhost:8080/"
        }
      },
      "execution_count": 22,
      "outputs": [
        {
          "output_type": "stream",
          "name": "stdout",
          "text": [
            "1 <class 'str'>\n",
            "True <class 'str'>\n",
            "Testando Conversões de Tipo:\n",
            "1 <class 'str'>\n",
            "1 <class 'int'>\n",
            "1.0 <class 'float'>\n",
            "True <class 'bool'>\n"
          ]
        }
      ]
    },
    {
      "cell_type": "markdown",
      "source": [
        "# Estruturas Condicionais:\n",
        "\n",
        "*   if - elif - else\n",
        "*   while\n",
        "*   for\n",
        "\n"
      ],
      "metadata": {
        "id": "iS9jmiNwXFmF"
      }
    },
    {
      "cell_type": "code",
      "source": [
        "idade = 13\n",
        "\n",
        "if idade < 13:\n",
        "  print(\"Criança\")\n",
        "elif idade >= 13 and idade < 18:\n",
        "  print(\"Adolescente\")\n",
        "else:\n",
        "  print(\"Adulto\")"
      ],
      "metadata": {
        "id": "UaLnC3rIXzf1",
        "outputId": "a7a87491-658d-4bab-a0e8-012d59003894",
        "colab": {
          "base_uri": "https://localhost:8080/"
        }
      },
      "execution_count": 28,
      "outputs": [
        {
          "output_type": "stream",
          "name": "stdout",
          "text": [
            "Adolescente\n"
          ]
        }
      ]
    },
    {
      "cell_type": "code",
      "source": [
        "numero_sorteado = 8\n",
        "\n",
        "verificador = True\n",
        "\n",
        "while verificador:\n",
        "\n",
        "  numero_escolhido = int(input(\"Digite um numero de 1 - 10:\"))\n",
        "  if numero_sorteado == numero_escolhido:\n",
        "    verificador = False\n",
        "    print(\"Você acertou!\")\n",
        "  else:\n",
        "    print(\"Você errou, tente novamente.\")"
      ],
      "metadata": {
        "id": "zDrYKoKHYSD0",
        "outputId": "4ac3da01-70ed-481b-fbfb-e29ffc2eb795",
        "colab": {
          "base_uri": "https://localhost:8080/"
        }
      },
      "execution_count": 31,
      "outputs": [
        {
          "output_type": "stream",
          "name": "stdout",
          "text": [
            "Digite um numero de 1 - 10:5\n",
            "Você errou, tente novamente.\n",
            "Digite um numero de 1 - 10:6\n",
            "Você errou, tente novamente.\n",
            "Digite um numero de 1 - 10:8\n",
            "Você acertou!\n"
          ]
        }
      ]
    },
    {
      "cell_type": "code",
      "source": [
        "numeros = [1,4,5,6,9]\n",
        "soma = 0\n",
        "for i in numeros:\n",
        "  soma += i\n",
        "\n",
        "print(soma)\n",
        "print(sum(numeros))"
      ],
      "metadata": {
        "id": "bPlGNiNiaWB5",
        "outputId": "43bd7a9b-c685-4ebe-f641-6f0d476826c9",
        "colab": {
          "base_uri": "https://localhost:8080/"
        }
      },
      "execution_count": 36,
      "outputs": [
        {
          "output_type": "stream",
          "name": "stdout",
          "text": [
            "25\n",
            "25\n"
          ]
        }
      ]
    }
  ]
}