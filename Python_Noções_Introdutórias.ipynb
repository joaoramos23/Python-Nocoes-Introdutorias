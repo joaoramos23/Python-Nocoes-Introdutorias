{
  "nbformat": 4,
  "nbformat_minor": 0,
  "metadata": {
    "colab": {
      "provenance": [],
      "authorship_tag": "ABX9TyO0tAbOae8glDNSIKFDqUiH",
      "include_colab_link": true
    },
    "kernelspec": {
      "name": "python3",
      "display_name": "Python 3"
    },
    "language_info": {
      "name": "python"
    }
  },
  "cells": [
    {
      "cell_type": "markdown",
      "metadata": {
        "id": "view-in-github",
        "colab_type": "text"
      },
      "source": [
        "<a href=\"https://colab.research.google.com/github/joaoramos23/Python-Nocoes-Introdutorias/blob/main/Python_No%C3%A7%C3%B5es_Introdut%C3%B3rias.ipynb\" target=\"_parent\"><img src=\"https://colab.research.google.com/assets/colab-badge.svg\" alt=\"Open In Colab\"/></a>"
      ]
    },
    {
      "cell_type": "markdown",
      "source": [
        "Revisão de Python e Noções Basicas\n",
        "\n",
        "Algoritmos são constituidos:\n",
        "\n",
        "\n",
        "1.   Entrada de dados.\n",
        "2.   Processamento dos dados.\n",
        "3.   Saída dos dados.\n",
        "\n"
      ],
      "metadata": {
        "id": "pPEbZo-0VHws"
      }
    },
    {
      "cell_type": "code",
      "source": [
        "# Exemplo Entrada de dados:\n",
        "nome = str(input(\"Digite seu nome:\"))"
      ],
      "metadata": {
        "colab": {
          "base_uri": "https://localhost:8080/"
        },
        "id": "GDGp7CgyVQbq",
        "outputId": "256d5289-07b2-4883-bb5d-3bca1c336383"
      },
      "execution_count": 1,
      "outputs": [
        {
          "name": "stdout",
          "output_type": "stream",
          "text": [
            "Digite seu nome:João\n"
          ]
        }
      ]
    },
    {
      "cell_type": "code",
      "source": [
        "# Exemplo Saída de dados:\n",
        "print(nome)"
      ],
      "metadata": {
        "colab": {
          "base_uri": "https://localhost:8080/"
        },
        "id": "ozYXslf3Whp2",
        "outputId": "63e818ec-7ae9-4f20-c1e7-af459b365843"
      },
      "execution_count": 3,
      "outputs": [
        {
          "output_type": "stream",
          "name": "stdout",
          "text": [
            "João\n"
          ]
        }
      ]
    }
  ]
}