{
  "nbformat": 4,
  "nbformat_minor": 0,
  "metadata": {
    "colab": {
      "provenance": [],
      "authorship_tag": "ABX9TyMqHhV8c0Rj8hUT6sag1+HY",
      "include_colab_link": true
    },
    "kernelspec": {
      "name": "python3",
      "display_name": "Python 3"
    },
    "language_info": {
      "name": "python"
    }
  },
  "cells": [
    {
      "cell_type": "markdown",
      "metadata": {
        "id": "view-in-github",
        "colab_type": "text"
      },
      "source": [
        "<a href=\"https://colab.research.google.com/github/joaoramos23/Python-Nocoes-Introdutorias/blob/main/Python_No%C3%A7%C3%B5es_Introdut%C3%B3rias.ipynb\" target=\"_parent\"><img src=\"https://colab.research.google.com/assets/colab-badge.svg\" alt=\"Open In Colab\"/></a>"
      ]
    },
    {
      "cell_type": "markdown",
      "source": [
        "# Revisão de Python e Noções Basicas\n",
        "\n",
        "Algoritmos são constituidos:\n",
        "\n",
        "\n",
        "1.   Entrada de dados.\n",
        "2.   Processamento dos dados.\n",
        "3.   Saída dos dados.\n",
        "\n"
      ],
      "metadata": {
        "id": "pPEbZo-0VHws"
      }
    },
    {
      "cell_type": "code",
      "source": [
        "# Exemplo Entrada de dados:\n",
        "nome_entrada = str(input(\"Digite seu nome:\"))"
      ],
      "metadata": {
        "colab": {
          "base_uri": "https://localhost:8080/"
        },
        "id": "GDGp7CgyVQbq",
        "outputId": "1225db4c-9d6f-48c6-e075-d65177a5cfe3"
      },
      "execution_count": 5,
      "outputs": [
        {
          "name": "stdout",
          "output_type": "stream",
          "text": [
            "Digite seu nome:joao\n"
          ]
        }
      ]
    },
    {
      "cell_type": "code",
      "source": [
        "# Exemplo Saída de dados:\n",
        "print(nome_entrada)"
      ],
      "metadata": {
        "colab": {
          "base_uri": "https://localhost:8080/"
        },
        "id": "ozYXslf3Whp2",
        "outputId": "5ffbe48b-ae4a-4998-ef9d-c2b589262df4"
      },
      "execution_count": 6,
      "outputs": [
        {
          "output_type": "stream",
          "name": "stdout",
          "text": [
            "joao\n"
          ]
        }
      ]
    },
    {
      "cell_type": "markdown",
      "source": [
        "### Operações Matemáticas:\n",
        "\n",
        "```\n",
        "*   Soma: +\n",
        "*   Subtração: -\n",
        "*   Multiplicação: *\n",
        "*   Divisão: /\n",
        "*   Divisão inteira: //\n",
        "*   Resto da divisão: %\n",
        "*   Potência: **   \n",
        "```\n"
      ],
      "metadata": {
        "id": "yepdAw7FHO6A"
      }
    },
    {
      "cell_type": "code",
      "source": [
        "numero_1 = 10\n",
        "numero_2 = 3\n",
        "\n",
        "print(numero_1 + numero_2)\n",
        "print(numero_1 - numero_2)\n",
        "print(numero_1 * numero_2)\n",
        "print(numero_1 / numero_2)\n",
        "print(numero_1 // numero_2)\n",
        "print(numero_1 % numero_2)\n",
        "print(numero_1 ** numero_2)"
      ],
      "metadata": {
        "id": "E3FJDLO6IWza",
        "outputId": "568caa15-80a5-4e68-a78f-175efd07f458",
        "colab": {
          "base_uri": "https://localhost:8080/"
        }
      },
      "execution_count": 11,
      "outputs": [
        {
          "output_type": "stream",
          "name": "stdout",
          "text": [
            "13\n",
            "7\n",
            "30\n",
            "3.3333333333333335\n",
            "3\n",
            "1\n",
            "1000\n"
          ]
        }
      ]
    },
    {
      "cell_type": "markdown",
      "source": [
        "### Operações Booleanos:\n",
        "\n",
        "```\n",
        "\n",
        "*   >: Maior que\n",
        "*   <: Menor que\n",
        "*   >=: Maior que ou igual\n",
        "*   <=: Menor que ou igual\n",
        "*   ==: Igual\n",
        "*   !=: Diferente\n",
        "\n",
        "\n",
        "```"
      ],
      "metadata": {
        "id": "Np3weKnrJ1os"
      }
    },
    {
      "cell_type": "code",
      "source": [
        "altura_1 = 3.10\n",
        "altura_2 = 1\n",
        "\n",
        "print(altura_1 > altura_2)\n",
        "print(altura_1 < altura_2)\n",
        "print(altura_1 >= altura_2)\n",
        "print(altura_1 <= altura_2)\n",
        "print(altura_1 == altura_2)\n",
        "print(altura_1 != altura_2)\n",
        "print(\"Python\" == \"python\")\n",
        "print(\"Pythonn\" > \"PYTHON\")\n",
        "print(\"Pythonn\" < \"PYTHON\")"
      ],
      "metadata": {
        "id": "-nZ6yK6VKmYi",
        "outputId": "7ab83033-128a-465b-8647-dd44d20b0df4",
        "colab": {
          "base_uri": "https://localhost:8080/"
        }
      },
      "execution_count": 12,
      "outputs": [
        {
          "output_type": "stream",
          "name": "stdout",
          "text": [
            "True\n",
            "False\n",
            "True\n",
            "False\n",
            "False\n",
            "True\n",
            "False\n",
            "True\n",
            "False\n"
          ]
        }
      ]
    }
  ]
}